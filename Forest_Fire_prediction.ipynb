{
  "nbformat": 4,
  "nbformat_minor": 0,
  "metadata": {
    "colab": {
      "name": "Forest Fire prediction.ipynb",
      "provenance": [],
      "collapsed_sections": []
    },
    "kernelspec": {
      "name": "python3",
      "display_name": "Python 3"
    },
    "language_info": {
      "name": "python"
    }
  },
  "cells": [
    {
      "cell_type": "code",
      "metadata": {
        "id": "XGdKzj7LUfFr"
      },
      "source": [
        "import datetime as dt\n",
        "\n",
        "import pandas as pd\n",
        "import numpy as np\n",
        "import seaborn as sns\n",
        "import matplotlib.pyplot as plt\n",
        "%matplotlib inline \n",
        "\n",
        "from sklearn.model_selection import train_test_split\n",
        "from sklearn.metrics import accuracy_score, classification_report\n",
        "from sklearn.ensemble import RandomForestRegressor"
      ],
      "execution_count": 1,
      "outputs": []
    },
    {
      "cell_type": "code",
      "metadata": {
        "colab": {
          "base_uri": "https://localhost:8080/",
          "height": 287
        },
        "id": "SXUbJyQbYCDg",
        "outputId": "b018a146-a802-4181-e6e2-6cb263b04ca9"
      },
      "source": [
        "df=pd.read_csv('fire_archive.csv')\n",
        "df.head()"
      ],
      "execution_count": 2,
      "outputs": [
        {
          "output_type": "execute_result",
          "data": {
            "text/html": [
              "<div>\n",
              "<style scoped>\n",
              "    .dataframe tbody tr th:only-of-type {\n",
              "        vertical-align: middle;\n",
              "    }\n",
              "\n",
              "    .dataframe tbody tr th {\n",
              "        vertical-align: top;\n",
              "    }\n",
              "\n",
              "    .dataframe thead th {\n",
              "        text-align: right;\n",
              "    }\n",
              "</style>\n",
              "<table border=\"1\" class=\"dataframe\">\n",
              "  <thead>\n",
              "    <tr style=\"text-align: right;\">\n",
              "      <th></th>\n",
              "      <th>latitude</th>\n",
              "      <th>longitude</th>\n",
              "      <th>brightness</th>\n",
              "      <th>scan</th>\n",
              "      <th>track</th>\n",
              "      <th>acq_date</th>\n",
              "      <th>acq_time</th>\n",
              "      <th>satellite</th>\n",
              "      <th>instrument</th>\n",
              "      <th>confidence</th>\n",
              "      <th>version</th>\n",
              "      <th>bright_t31</th>\n",
              "      <th>frp</th>\n",
              "      <th>daynight</th>\n",
              "      <th>type</th>\n",
              "    </tr>\n",
              "  </thead>\n",
              "  <tbody>\n",
              "    <tr>\n",
              "      <th>0</th>\n",
              "      <td>-11.8070</td>\n",
              "      <td>142.0583</td>\n",
              "      <td>313.0</td>\n",
              "      <td>1.0</td>\n",
              "      <td>1.0</td>\n",
              "      <td>2019-08-01</td>\n",
              "      <td>56</td>\n",
              "      <td>Terra</td>\n",
              "      <td>MODIS</td>\n",
              "      <td>48</td>\n",
              "      <td>6.3</td>\n",
              "      <td>297.3</td>\n",
              "      <td>6.6</td>\n",
              "      <td>D</td>\n",
              "      <td>0</td>\n",
              "    </tr>\n",
              "    <tr>\n",
              "      <th>1</th>\n",
              "      <td>-11.7924</td>\n",
              "      <td>142.0850</td>\n",
              "      <td>319.3</td>\n",
              "      <td>1.0</td>\n",
              "      <td>1.0</td>\n",
              "      <td>2019-08-01</td>\n",
              "      <td>56</td>\n",
              "      <td>Terra</td>\n",
              "      <td>MODIS</td>\n",
              "      <td>71</td>\n",
              "      <td>6.3</td>\n",
              "      <td>297.3</td>\n",
              "      <td>11.3</td>\n",
              "      <td>D</td>\n",
              "      <td>0</td>\n",
              "    </tr>\n",
              "    <tr>\n",
              "      <th>2</th>\n",
              "      <td>-12.8398</td>\n",
              "      <td>132.8744</td>\n",
              "      <td>311.6</td>\n",
              "      <td>3.1</td>\n",
              "      <td>1.7</td>\n",
              "      <td>2019-08-01</td>\n",
              "      <td>57</td>\n",
              "      <td>Terra</td>\n",
              "      <td>MODIS</td>\n",
              "      <td>42</td>\n",
              "      <td>6.3</td>\n",
              "      <td>298.7</td>\n",
              "      <td>23.1</td>\n",
              "      <td>D</td>\n",
              "      <td>0</td>\n",
              "    </tr>\n",
              "    <tr>\n",
              "      <th>3</th>\n",
              "      <td>-14.4306</td>\n",
              "      <td>143.3035</td>\n",
              "      <td>310.1</td>\n",
              "      <td>1.1</td>\n",
              "      <td>1.1</td>\n",
              "      <td>2019-08-01</td>\n",
              "      <td>57</td>\n",
              "      <td>Terra</td>\n",
              "      <td>MODIS</td>\n",
              "      <td>33</td>\n",
              "      <td>6.3</td>\n",
              "      <td>296.1</td>\n",
              "      <td>6.5</td>\n",
              "      <td>D</td>\n",
              "      <td>0</td>\n",
              "    </tr>\n",
              "    <tr>\n",
              "      <th>4</th>\n",
              "      <td>-12.4953</td>\n",
              "      <td>131.4897</td>\n",
              "      <td>310.3</td>\n",
              "      <td>4.0</td>\n",
              "      <td>1.9</td>\n",
              "      <td>2019-08-01</td>\n",
              "      <td>57</td>\n",
              "      <td>Terra</td>\n",
              "      <td>MODIS</td>\n",
              "      <td>36</td>\n",
              "      <td>6.3</td>\n",
              "      <td>298.8</td>\n",
              "      <td>27.6</td>\n",
              "      <td>D</td>\n",
              "      <td>0</td>\n",
              "    </tr>\n",
              "  </tbody>\n",
              "</table>\n",
              "</div>"
            ],
            "text/plain": [
              "   latitude  longitude  brightness  scan  ...  bright_t31   frp  daynight type\n",
              "0  -11.8070   142.0583       313.0   1.0  ...       297.3   6.6         D    0\n",
              "1  -11.7924   142.0850       319.3   1.0  ...       297.3  11.3         D    0\n",
              "2  -12.8398   132.8744       311.6   3.1  ...       298.7  23.1         D    0\n",
              "3  -14.4306   143.3035       310.1   1.1  ...       296.1   6.5         D    0\n",
              "4  -12.4953   131.4897       310.3   4.0  ...       298.8  27.6         D    0\n",
              "\n",
              "[5 rows x 15 columns]"
            ]
          },
          "metadata": {},
          "execution_count": 2
        }
      ]
    },
    {
      "cell_type": "code",
      "metadata": {
        "colab": {
          "base_uri": "https://localhost:8080/"
        },
        "id": "oBVrEiRYY7HD",
        "outputId": "98a0fb08-e8cf-4af3-ccd7-89efb60310c1"
      },
      "source": [
        "df.shape"
      ],
      "execution_count": 3,
      "outputs": [
        {
          "output_type": "execute_result",
          "data": {
            "text/plain": [
              "(36011, 15)"
            ]
          },
          "metadata": {},
          "execution_count": 3
        }
      ]
    },
    {
      "cell_type": "code",
      "metadata": {
        "colab": {
          "base_uri": "https://localhost:8080/"
        },
        "id": "cSwRmOcgZDWX",
        "outputId": "32a81291-0872-4f2e-a2be-73ed64178fc4"
      },
      "source": [
        "df.columns"
      ],
      "execution_count": 4,
      "outputs": [
        {
          "output_type": "execute_result",
          "data": {
            "text/plain": [
              "Index(['latitude', 'longitude', 'brightness', 'scan', 'track', 'acq_date',\n",
              "       'acq_time', 'satellite', 'instrument', 'confidence', 'version',\n",
              "       'bright_t31', 'frp', 'daynight', 'type'],\n",
              "      dtype='object')"
            ]
          },
          "metadata": {},
          "execution_count": 4
        }
      ]
    },
    {
      "cell_type": "code",
      "metadata": {
        "colab": {
          "base_uri": "https://localhost:8080/"
        },
        "id": "H9eoPkvjZH2h",
        "outputId": "e89d2962-ac36-4a98-fa61-5c01e604a6a7"
      },
      "source": [
        "df.isnull().sum()"
      ],
      "execution_count": 5,
      "outputs": [
        {
          "output_type": "execute_result",
          "data": {
            "text/plain": [
              "latitude      0\n",
              "longitude     0\n",
              "brightness    0\n",
              "scan          0\n",
              "track         0\n",
              "acq_date      0\n",
              "acq_time      0\n",
              "satellite     0\n",
              "instrument    0\n",
              "confidence    0\n",
              "version       0\n",
              "bright_t31    0\n",
              "frp           0\n",
              "daynight      0\n",
              "type          0\n",
              "dtype: int64"
            ]
          },
          "metadata": {},
          "execution_count": 5
        }
      ]
    },
    {
      "cell_type": "code",
      "metadata": {
        "colab": {
          "base_uri": "https://localhost:8080/",
          "height": 315
        },
        "id": "scFoTx7xZNFi",
        "outputId": "9172686c-7a7d-48d9-b07f-4cc40e5a4896"
      },
      "source": [
        "df.describe()"
      ],
      "execution_count": 6,
      "outputs": [
        {
          "output_type": "execute_result",
          "data": {
            "text/html": [
              "<div>\n",
              "<style scoped>\n",
              "    .dataframe tbody tr th:only-of-type {\n",
              "        vertical-align: middle;\n",
              "    }\n",
              "\n",
              "    .dataframe tbody tr th {\n",
              "        vertical-align: top;\n",
              "    }\n",
              "\n",
              "    .dataframe thead th {\n",
              "        text-align: right;\n",
              "    }\n",
              "</style>\n",
              "<table border=\"1\" class=\"dataframe\">\n",
              "  <thead>\n",
              "    <tr style=\"text-align: right;\">\n",
              "      <th></th>\n",
              "      <th>latitude</th>\n",
              "      <th>longitude</th>\n",
              "      <th>brightness</th>\n",
              "      <th>scan</th>\n",
              "      <th>track</th>\n",
              "      <th>acq_time</th>\n",
              "      <th>confidence</th>\n",
              "      <th>version</th>\n",
              "      <th>bright_t31</th>\n",
              "      <th>frp</th>\n",
              "      <th>type</th>\n",
              "    </tr>\n",
              "  </thead>\n",
              "  <tbody>\n",
              "    <tr>\n",
              "      <th>count</th>\n",
              "      <td>36011.000000</td>\n",
              "      <td>36011.000000</td>\n",
              "      <td>36011.000000</td>\n",
              "      <td>36011.000000</td>\n",
              "      <td>36011.000000</td>\n",
              "      <td>36011.000000</td>\n",
              "      <td>36011.000000</td>\n",
              "      <td>3.601100e+04</td>\n",
              "      <td>36011.000000</td>\n",
              "      <td>36011.000000</td>\n",
              "      <td>36011.000000</td>\n",
              "    </tr>\n",
              "    <tr>\n",
              "      <th>mean</th>\n",
              "      <td>-19.100962</td>\n",
              "      <td>138.931446</td>\n",
              "      <td>328.750696</td>\n",
              "      <td>1.620905</td>\n",
              "      <td>1.215281</td>\n",
              "      <td>600.025798</td>\n",
              "      <td>67.551387</td>\n",
              "      <td>6.300000e+00</td>\n",
              "      <td>301.339138</td>\n",
              "      <td>51.132176</td>\n",
              "      <td>0.019439</td>\n",
              "    </tr>\n",
              "    <tr>\n",
              "      <th>std</th>\n",
              "      <td>7.265777</td>\n",
              "      <td>9.261400</td>\n",
              "      <td>18.992808</td>\n",
              "      <td>0.813764</td>\n",
              "      <td>0.247852</td>\n",
              "      <td>548.369111</td>\n",
              "      <td>23.179946</td>\n",
              "      <td>3.728625e-12</td>\n",
              "      <td>9.724462</td>\n",
              "      <td>92.280112</td>\n",
              "      <td>0.198326</td>\n",
              "    </tr>\n",
              "    <tr>\n",
              "      <th>min</th>\n",
              "      <td>-42.762800</td>\n",
              "      <td>114.104300</td>\n",
              "      <td>300.000000</td>\n",
              "      <td>1.000000</td>\n",
              "      <td>1.000000</td>\n",
              "      <td>0.000000</td>\n",
              "      <td>0.000000</td>\n",
              "      <td>6.300000e+00</td>\n",
              "      <td>267.000000</td>\n",
              "      <td>0.000000</td>\n",
              "      <td>0.000000</td>\n",
              "    </tr>\n",
              "    <tr>\n",
              "      <th>25%</th>\n",
              "      <td>-26.370250</td>\n",
              "      <td>131.072250</td>\n",
              "      <td>316.500000</td>\n",
              "      <td>1.100000</td>\n",
              "      <td>1.000000</td>\n",
              "      <td>205.000000</td>\n",
              "      <td>52.000000</td>\n",
              "      <td>6.300000e+00</td>\n",
              "      <td>293.600000</td>\n",
              "      <td>13.800000</td>\n",
              "      <td>0.000000</td>\n",
              "    </tr>\n",
              "    <tr>\n",
              "      <th>50%</th>\n",
              "      <td>-15.706500</td>\n",
              "      <td>136.738500</td>\n",
              "      <td>326.400000</td>\n",
              "      <td>1.300000</td>\n",
              "      <td>1.100000</td>\n",
              "      <td>424.000000</td>\n",
              "      <td>70.000000</td>\n",
              "      <td>6.300000e+00</td>\n",
              "      <td>302.400000</td>\n",
              "      <td>25.800000</td>\n",
              "      <td>0.000000</td>\n",
              "    </tr>\n",
              "    <tr>\n",
              "      <th>75%</th>\n",
              "      <td>-13.343600</td>\n",
              "      <td>147.477500</td>\n",
              "      <td>336.700000</td>\n",
              "      <td>1.900000</td>\n",
              "      <td>1.300000</td>\n",
              "      <td>600.000000</td>\n",
              "      <td>86.000000</td>\n",
              "      <td>6.300000e+00</td>\n",
              "      <td>308.600000</td>\n",
              "      <td>52.800000</td>\n",
              "      <td>0.000000</td>\n",
              "    </tr>\n",
              "    <tr>\n",
              "      <th>max</th>\n",
              "      <td>-10.072600</td>\n",
              "      <td>153.490400</td>\n",
              "      <td>504.400000</td>\n",
              "      <td>4.800000</td>\n",
              "      <td>2.000000</td>\n",
              "      <td>2359.000000</td>\n",
              "      <td>100.000000</td>\n",
              "      <td>6.300000e+00</td>\n",
              "      <td>400.100000</td>\n",
              "      <td>3679.500000</td>\n",
              "      <td>3.000000</td>\n",
              "    </tr>\n",
              "  </tbody>\n",
              "</table>\n",
              "</div>"
            ],
            "text/plain": [
              "           latitude     longitude  ...           frp          type\n",
              "count  36011.000000  36011.000000  ...  36011.000000  36011.000000\n",
              "mean     -19.100962    138.931446  ...     51.132176      0.019439\n",
              "std        7.265777      9.261400  ...     92.280112      0.198326\n",
              "min      -42.762800    114.104300  ...      0.000000      0.000000\n",
              "25%      -26.370250    131.072250  ...     13.800000      0.000000\n",
              "50%      -15.706500    136.738500  ...     25.800000      0.000000\n",
              "75%      -13.343600    147.477500  ...     52.800000      0.000000\n",
              "max      -10.072600    153.490400  ...   3679.500000      3.000000\n",
              "\n",
              "[8 rows x 11 columns]"
            ]
          },
          "metadata": {},
          "execution_count": 6
        }
      ]
    },
    {
      "cell_type": "code",
      "metadata": {
        "colab": {
          "base_uri": "https://localhost:8080/",
          "height": 657
        },
        "id": "ZUsmmAcLZrSH",
        "outputId": "4f7d4517-c284-4066-ddcb-7038b95d9460"
      },
      "source": [
        "plt.figure(figsize=(10, 10))\n",
        "sns.heatmap(df.corr(),annot=True,cmap='viridis',linewidths=.5)"
      ],
      "execution_count": 7,
      "outputs": [
        {
          "output_type": "execute_result",
          "data": {
            "text/plain": [
              "<matplotlib.axes._subplots.AxesSubplot at 0x7f794b43a150>"
            ]
          },
          "metadata": {},
          "execution_count": 7
        },
        {
          "output_type": "display_data",
          "data": {
            "image/png": "[encoded data removed]",
            "text/plain": [
              "<Figure size 720x720 with 2 Axes>"
            ]
          },
          "metadata": {
            "needs_background": "light"
          }
        }
      ]
    },
    {
      "cell_type": "code",
      "metadata": {
        "id": "1jf_Am6jZ42g"
      },
      "source": [
        "df= df.drop(['track'], axis = 1)"
      ],
      "execution_count": 8,
      "outputs": []
    },
    {
      "cell_type": "code",
      "metadata": {
        "colab": {
          "base_uri": "https://localhost:8080/"
        },
        "id": "Jgp_TMXhraev",
        "outputId": "21bd215c-3215-4248-fab0-22605b4949d1"
      },
      "source": [
        "# Finding categorical data\n",
        "print(\"The scan column\")\n",
        "print(df['scan'].value_counts())\n",
        "print()\n",
        "print(\"The aqc_time column\")\n",
        "print(df['acq_time'].value_counts())\n",
        "print()\n",
        "print(\"The satellite column\")\n",
        "print(df['satellite'].value_counts())\n",
        "print()\n",
        "print(\"The instrument column\")\n",
        "print(df['instrument'].value_counts())\n",
        "print()\n",
        "print(\"The version column\")\n",
        "print(df['version'].value_counts())\n",
        "print()\n",
        "print(\"The daynight column\")\n",
        "print(df['daynight'].value_counts())\n",
        "print()"
      ],
      "execution_count": 9,
      "outputs": [
        {
          "output_type": "stream",
          "name": "stdout",
          "text": [
            "The scan column\n",
            "1.0    8284\n",
            "1.1    6000\n",
            "1.2    3021\n",
            "1.3    2412\n",
            "1.4    1848\n",
            "1.5    1610\n",
            "1.6    1451\n",
            "1.7    1281\n",
            "1.8    1041\n",
            "1.9     847\n",
            "2.0     707\n",
            "2.2     691\n",
            "2.1     649\n",
            "2.3     608\n",
            "2.5     468\n",
            "2.4     433\n",
            "2.8     422\n",
            "3.0     402\n",
            "2.7     366\n",
            "2.9     361\n",
            "2.6     347\n",
            "3.1     259\n",
            "3.2     244\n",
            "3.6     219\n",
            "3.4     203\n",
            "3.3     203\n",
            "3.8     189\n",
            "3.9     156\n",
            "4.7     149\n",
            "4.3     137\n",
            "3.5     134\n",
            "3.7     134\n",
            "4.1     120\n",
            "4.6     118\n",
            "4.5     116\n",
            "4.2     108\n",
            "4.0     103\n",
            "4.4     100\n",
            "4.8      70\n",
            "Name: scan, dtype: int64\n",
            "\n",
            "The aqc_time column\n",
            "506     851\n",
            "454     631\n",
            "122     612\n",
            "423     574\n",
            "448     563\n",
            "       ... \n",
            "1558      1\n",
            "635       1\n",
            "1153      1\n",
            "302       1\n",
            "1519      1\n",
            "Name: acq_time, Length: 662, dtype: int64\n",
            "\n",
            "The satellite column\n",
            "Aqua     20541\n",
            "Terra    15470\n",
            "Name: satellite, dtype: int64\n",
            "\n",
            "The instrument column\n",
            "MODIS    36011\n",
            "Name: instrument, dtype: int64\n",
            "\n",
            "The version column\n",
            "6.3    36011\n",
            "Name: version, dtype: int64\n",
            "\n",
            "The daynight column\n",
            "D    28203\n",
            "N     7808\n",
            "Name: daynight, dtype: int64\n",
            "\n"
          ]
        }
      ]
    },
    {
      "cell_type": "code",
      "metadata": {
        "colab": {
          "base_uri": "https://localhost:8080/",
          "height": 203
        },
        "id": "UKsVrQlesD6z",
        "outputId": "00b248b7-18ae-477d-d3d5-0f2493943dcc"
      },
      "source": [
        "df= df.drop(['instrument', 'version'], axis = 1)\n",
        "\n",
        "df.head()"
      ],
      "execution_count": 10,
      "outputs": [
        {
          "output_type": "execute_result",
          "data": {
            "text/html": [
              "<div>\n",
              "<style scoped>\n",
              "    .dataframe tbody tr th:only-of-type {\n",
              "        vertical-align: middle;\n",
              "    }\n",
              "\n",
              "    .dataframe tbody tr th {\n",
              "        vertical-align: top;\n",
              "    }\n",
              "\n",
              "    .dataframe thead th {\n",
              "        text-align: right;\n",
              "    }\n",
              "</style>\n",
              "<table border=\"1\" class=\"dataframe\">\n",
              "  <thead>\n",
              "    <tr style=\"text-align: right;\">\n",
              "      <th></th>\n",
              "      <th>latitude</th>\n",
              "      <th>longitude</th>\n",
              "      <th>brightness</th>\n",
              "      <th>scan</th>\n",
              "      <th>acq_date</th>\n",
              "      <th>acq_time</th>\n",
              "      <th>satellite</th>\n",
              "      <th>confidence</th>\n",
              "      <th>bright_t31</th>\n",
              "      <th>frp</th>\n",
              "      <th>daynight</th>\n",
              "      <th>type</th>\n",
              "    </tr>\n",
              "  </thead>\n",
              "  <tbody>\n",
              "    <tr>\n",
              "      <th>0</th>\n",
              "      <td>-11.8070</td>\n",
              "      <td>142.0583</td>\n",
              "      <td>313.0</td>\n",
              "      <td>1.0</td>\n",
              "      <td>2019-08-01</td>\n",
              "      <td>56</td>\n",
              "      <td>Terra</td>\n",
              "      <td>48</td>\n",
              "      <td>297.3</td>\n",
              "      <td>6.6</td>\n",
              "      <td>D</td>\n",
              "      <td>0</td>\n",
              "    </tr>\n",
              "    <tr>\n",
              "      <th>1</th>\n",
              "      <td>-11.7924</td>\n",
              "      <td>142.0850</td>\n",
              "      <td>319.3</td>\n",
              "      <td>1.0</td>\n",
              "      <td>2019-08-01</td>\n",
              "      <td>56</td>\n",
              "      <td>Terra</td>\n",
              "      <td>71</td>\n",
              "      <td>297.3</td>\n",
              "      <td>11.3</td>\n",
              "      <td>D</td>\n",
              "      <td>0</td>\n",
              "    </tr>\n",
              "    <tr>\n",
              "      <th>2</th>\n",
              "      <td>-12.8398</td>\n",
              "      <td>132.8744</td>\n",
              "      <td>311.6</td>\n",
              "      <td>3.1</td>\n",
              "      <td>2019-08-01</td>\n",
              "      <td>57</td>\n",
              "      <td>Terra</td>\n",
              "      <td>42</td>\n",
              "      <td>298.7</td>\n",
              "      <td>23.1</td>\n",
              "      <td>D</td>\n",
              "      <td>0</td>\n",
              "    </tr>\n",
              "    <tr>\n",
              "      <th>3</th>\n",
              "      <td>-14.4306</td>\n",
              "      <td>143.3035</td>\n",
              "      <td>310.1</td>\n",
              "      <td>1.1</td>\n",
              "      <td>2019-08-01</td>\n",
              "      <td>57</td>\n",
              "      <td>Terra</td>\n",
              "      <td>33</td>\n",
              "      <td>296.1</td>\n",
              "      <td>6.5</td>\n",
              "      <td>D</td>\n",
              "      <td>0</td>\n",
              "    </tr>\n",
              "    <tr>\n",
              "      <th>4</th>\n",
              "      <td>-12.4953</td>\n",
              "      <td>131.4897</td>\n",
              "      <td>310.3</td>\n",
              "      <td>4.0</td>\n",
              "      <td>2019-08-01</td>\n",
              "      <td>57</td>\n",
              "      <td>Terra</td>\n",
              "      <td>36</td>\n",
              "      <td>298.8</td>\n",
              "      <td>27.6</td>\n",
              "      <td>D</td>\n",
              "      <td>0</td>\n",
              "    </tr>\n",
              "  </tbody>\n",
              "</table>\n",
              "</div>"
            ],
            "text/plain": [
              "   latitude  longitude  brightness  scan  ... bright_t31   frp daynight  type\n",
              "0  -11.8070   142.0583       313.0   1.0  ...      297.3   6.6        D     0\n",
              "1  -11.7924   142.0850       319.3   1.0  ...      297.3  11.3        D     0\n",
              "2  -12.8398   132.8744       311.6   3.1  ...      298.7  23.1        D     0\n",
              "3  -14.4306   143.3035       310.1   1.1  ...      296.1   6.5        D     0\n",
              "4  -12.4953   131.4897       310.3   4.0  ...      298.8  27.6        D     0\n",
              "\n",
              "[5 rows x 12 columns]"
            ]
          },
          "metadata": {},
          "execution_count": 10
        }
      ]
    },
    {
      "cell_type": "code",
      "metadata": {
        "colab": {
          "base_uri": "https://localhost:8080/",
          "height": 203
        },
        "id": "H9XdAHOavhTY",
        "outputId": "405d06a5-db95-4d8a-835e-808b22908573"
      },
      "source": [
        "daynight_map = {\"D\": 1, \"N\": 0}\n",
        "satellite_map = {\"Terra\": 1, \"Aqua\": 0}\n",
        "df['daynight'] = df['daynight'].map(daynight_map)\n",
        "df['satellite'] = df['satellite'].map(satellite_map)\n",
        "\n",
        "df.head()"
      ],
      "execution_count": 11,
      "outputs": [
        {
          "output_type": "execute_result",
          "data": {
            "text/html": [
              "<div>\n",
              "<style scoped>\n",
              "    .dataframe tbody tr th:only-of-type {\n",
              "        vertical-align: middle;\n",
              "    }\n",
              "\n",
              "    .dataframe tbody tr th {\n",
              "        vertical-align: top;\n",
              "    }\n",
              "\n",
              "    .dataframe thead th {\n",
              "        text-align: right;\n",
              "    }\n",
              "</style>\n",
              "<table border=\"1\" class=\"dataframe\">\n",
              "  <thead>\n",
              "    <tr style=\"text-align: right;\">\n",
              "      <th></th>\n",
              "      <th>latitude</th>\n",
              "      <th>longitude</th>\n",
              "      <th>brightness</th>\n",
              "      <th>scan</th>\n",
              "      <th>acq_date</th>\n",
              "      <th>acq_time</th>\n",
              "      <th>satellite</th>\n",
              "      <th>confidence</th>\n",
              "      <th>bright_t31</th>\n",
              "      <th>frp</th>\n",
              "      <th>daynight</th>\n",
              "      <th>type</th>\n",
              "    </tr>\n",
              "  </thead>\n",
              "  <tbody>\n",
              "    <tr>\n",
              "      <th>0</th>\n",
              "      <td>-11.8070</td>\n",
              "      <td>142.0583</td>\n",
              "      <td>313.0</td>\n",
              "      <td>1.0</td>\n",
              "      <td>2019-08-01</td>\n",
              "      <td>56</td>\n",
              "      <td>1</td>\n",
              "      <td>48</td>\n",
              "      <td>297.3</td>\n",
              "      <td>6.6</td>\n",
              "      <td>1</td>\n",
              "      <td>0</td>\n",
              "    </tr>\n",
              "    <tr>\n",
              "      <th>1</th>\n",
              "      <td>-11.7924</td>\n",
              "      <td>142.0850</td>\n",
              "      <td>319.3</td>\n",
              "      <td>1.0</td>\n",
              "      <td>2019-08-01</td>\n",
              "      <td>56</td>\n",
              "      <td>1</td>\n",
              "      <td>71</td>\n",
              "      <td>297.3</td>\n",
              "      <td>11.3</td>\n",
              "      <td>1</td>\n",
              "      <td>0</td>\n",
              "    </tr>\n",
              "    <tr>\n",
              "      <th>2</th>\n",
              "      <td>-12.8398</td>\n",
              "      <td>132.8744</td>\n",
              "      <td>311.6</td>\n",
              "      <td>3.1</td>\n",
              "      <td>2019-08-01</td>\n",
              "      <td>57</td>\n",
              "      <td>1</td>\n",
              "      <td>42</td>\n",
              "      <td>298.7</td>\n",
              "      <td>23.1</td>\n",
              "      <td>1</td>\n",
              "      <td>0</td>\n",
              "    </tr>\n",
              "    <tr>\n",
              "      <th>3</th>\n",
              "      <td>-14.4306</td>\n",
              "      <td>143.3035</td>\n",
              "      <td>310.1</td>\n",
              "      <td>1.1</td>\n",
              "      <td>2019-08-01</td>\n",
              "      <td>57</td>\n",
              "      <td>1</td>\n",
              "      <td>33</td>\n",
              "      <td>296.1</td>\n",
              "      <td>6.5</td>\n",
              "      <td>1</td>\n",
              "      <td>0</td>\n",
              "    </tr>\n",
              "    <tr>\n",
              "      <th>4</th>\n",
              "      <td>-12.4953</td>\n",
              "      <td>131.4897</td>\n",
              "      <td>310.3</td>\n",
              "      <td>4.0</td>\n",
              "      <td>2019-08-01</td>\n",
              "      <td>57</td>\n",
              "      <td>1</td>\n",
              "      <td>36</td>\n",
              "      <td>298.8</td>\n",
              "      <td>27.6</td>\n",
              "      <td>1</td>\n",
              "      <td>0</td>\n",
              "    </tr>\n",
              "  </tbody>\n",
              "</table>\n",
              "</div>"
            ],
            "text/plain": [
              "   latitude  longitude  brightness  scan  ... bright_t31   frp  daynight  type\n",
              "0  -11.8070   142.0583       313.0   1.0  ...      297.3   6.6         1     0\n",
              "1  -11.7924   142.0850       319.3   1.0  ...      297.3  11.3         1     0\n",
              "2  -12.8398   132.8744       311.6   3.1  ...      298.7  23.1         1     0\n",
              "3  -14.4306   143.3035       310.1   1.1  ...      296.1   6.5         1     0\n",
              "4  -12.4953   131.4897       310.3   4.0  ...      298.8  27.6         1     0\n",
              "\n",
              "[5 rows x 12 columns]"
            ]
          },
          "metadata": {},
          "execution_count": 11
        }
      ]
    },
    {
      "cell_type": "code",
      "metadata": {
        "colab": {
          "base_uri": "https://localhost:8080/"
        },
        "id": "Ze4UAB7Xzg2n",
        "outputId": "cd974d5d-a6a5-4f03-d2dc-2564601b4739"
      },
      "source": [
        "df['type'].value_counts()"
      ],
      "execution_count": 12,
      "outputs": [
        {
          "output_type": "execute_result",
          "data": {
            "text/plain": [
              "0    35666\n",
              "2      335\n",
              "3       10\n",
              "Name: type, dtype: int64"
            ]
          },
          "metadata": {},
          "execution_count": 12
        }
      ]
    },
    {
      "cell_type": "code",
      "metadata": {
        "colab": {
          "base_uri": "https://localhost:8080/",
          "height": 203
        },
        "id": "sjhVqMXKzg8l",
        "outputId": "502ce0c2-274d-417c-e43e-6a7ebc3c8697"
      },
      "source": [
        "types = pd.get_dummies(df['type'])\n",
        "df = pd.concat([df, types], axis=1)\n",
        "\n",
        "df = df.drop(['type'], axis = 1)\n",
        "df.head()"
      ],
      "execution_count": 13,
      "outputs": [
        {
          "output_type": "execute_result",
          "data": {
            "text/html": [
              "<div>\n",
              "<style scoped>\n",
              "    .dataframe tbody tr th:only-of-type {\n",
              "        vertical-align: middle;\n",
              "    }\n",
              "\n",
              "    .dataframe tbody tr th {\n",
              "        vertical-align: top;\n",
              "    }\n",
              "\n",
              "    .dataframe thead th {\n",
              "        text-align: right;\n",
              "    }\n",
              "</style>\n",
              "<table border=\"1\" class=\"dataframe\">\n",
              "  <thead>\n",
              "    <tr style=\"text-align: right;\">\n",
              "      <th></th>\n",
              "      <th>latitude</th>\n",
              "      <th>longitude</th>\n",
              "      <th>brightness</th>\n",
              "      <th>scan</th>\n",
              "      <th>acq_date</th>\n",
              "      <th>acq_time</th>\n",
              "      <th>satellite</th>\n",
              "      <th>confidence</th>\n",
              "      <th>bright_t31</th>\n",
              "      <th>frp</th>\n",
              "      <th>daynight</th>\n",
              "      <th>0</th>\n",
              "      <th>2</th>\n",
              "      <th>3</th>\n",
              "    </tr>\n",
              "  </thead>\n",
              "  <tbody>\n",
              "    <tr>\n",
              "      <th>0</th>\n",
              "      <td>-11.8070</td>\n",
              "      <td>142.0583</td>\n",
              "      <td>313.0</td>\n",
              "      <td>1.0</td>\n",
              "      <td>2019-08-01</td>\n",
              "      <td>56</td>\n",
              "      <td>1</td>\n",
              "      <td>48</td>\n",
              "      <td>297.3</td>\n",
              "      <td>6.6</td>\n",
              "      <td>1</td>\n",
              "      <td>1</td>\n",
              "      <td>0</td>\n",
              "      <td>0</td>\n",
              "    </tr>\n",
              "    <tr>\n",
              "      <th>1</th>\n",
              "      <td>-11.7924</td>\n",
              "      <td>142.0850</td>\n",
              "      <td>319.3</td>\n",
              "      <td>1.0</td>\n",
              "      <td>2019-08-01</td>\n",
              "      <td>56</td>\n",
              "      <td>1</td>\n",
              "      <td>71</td>\n",
              "      <td>297.3</td>\n",
              "      <td>11.3</td>\n",
              "      <td>1</td>\n",
              "      <td>1</td>\n",
              "      <td>0</td>\n",
              "      <td>0</td>\n",
              "    </tr>\n",
              "    <tr>\n",
              "      <th>2</th>\n",
              "      <td>-12.8398</td>\n",
              "      <td>132.8744</td>\n",
              "      <td>311.6</td>\n",
              "      <td>3.1</td>\n",
              "      <td>2019-08-01</td>\n",
              "      <td>57</td>\n",
              "      <td>1</td>\n",
              "      <td>42</td>\n",
              "      <td>298.7</td>\n",
              "      <td>23.1</td>\n",
              "      <td>1</td>\n",
              "      <td>1</td>\n",
              "      <td>0</td>\n",
              "      <td>0</td>\n",
              "    </tr>\n",
              "    <tr>\n",
              "      <th>3</th>\n",
              "      <td>-14.4306</td>\n",
              "      <td>143.3035</td>\n",
              "      <td>310.1</td>\n",
              "      <td>1.1</td>\n",
              "      <td>2019-08-01</td>\n",
              "      <td>57</td>\n",
              "      <td>1</td>\n",
              "      <td>33</td>\n",
              "      <td>296.1</td>\n",
              "      <td>6.5</td>\n",
              "      <td>1</td>\n",
              "      <td>1</td>\n",
              "      <td>0</td>\n",
              "      <td>0</td>\n",
              "    </tr>\n",
              "    <tr>\n",
              "      <th>4</th>\n",
              "      <td>-12.4953</td>\n",
              "      <td>131.4897</td>\n",
              "      <td>310.3</td>\n",
              "      <td>4.0</td>\n",
              "      <td>2019-08-01</td>\n",
              "      <td>57</td>\n",
              "      <td>1</td>\n",
              "      <td>36</td>\n",
              "      <td>298.8</td>\n",
              "      <td>27.6</td>\n",
              "      <td>1</td>\n",
              "      <td>1</td>\n",
              "      <td>0</td>\n",
              "      <td>0</td>\n",
              "    </tr>\n",
              "  </tbody>\n",
              "</table>\n",
              "</div>"
            ],
            "text/plain": [
              "   latitude  longitude  brightness  scan    acq_date  ...   frp  daynight  0  2  3\n",
              "0  -11.8070   142.0583       313.0   1.0  2019-08-01  ...   6.6         1  1  0  0\n",
              "1  -11.7924   142.0850       319.3   1.0  2019-08-01  ...  11.3         1  1  0  0\n",
              "2  -12.8398   132.8744       311.6   3.1  2019-08-01  ...  23.1         1  1  0  0\n",
              "3  -14.4306   143.3035       310.1   1.1  2019-08-01  ...   6.5         1  1  0  0\n",
              "4  -12.4953   131.4897       310.3   4.0  2019-08-01  ...  27.6         1  1  0  0\n",
              "\n",
              "[5 rows x 14 columns]"
            ]
          },
          "metadata": {},
          "execution_count": 13
        }
      ]
    },
    {
      "cell_type": "code",
      "metadata": {
        "colab": {
          "base_uri": "https://localhost:8080/",
          "height": 203
        },
        "id": "qPMr_WnV055j",
        "outputId": "33a2491a-51ce-4177-a3a6-ed43f3d3843c"
      },
      "source": [
        "# Renaming columns for better understanding\n",
        "\n",
        "df = df.rename(columns={0: 'type_0', 2: 'type_2', 3: 'type_3'})\n",
        "df.head()"
      ],
      "execution_count": 14,
      "outputs": [
        {
          "output_type": "execute_result",
          "data": {
            "text/html": [
              "<div>\n",
              "<style scoped>\n",
              "    .dataframe tbody tr th:only-of-type {\n",
              "        vertical-align: middle;\n",
              "    }\n",
              "\n",
              "    .dataframe tbody tr th {\n",
              "        vertical-align: top;\n",
              "    }\n",
              "\n",
              "    .dataframe thead th {\n",
              "        text-align: right;\n",
              "    }\n",
              "</style>\n",
              "<table border=\"1\" class=\"dataframe\">\n",
              "  <thead>\n",
              "    <tr style=\"text-align: right;\">\n",
              "      <th></th>\n",
              "      <th>latitude</th>\n",
              "      <th>longitude</th>\n",
              "      <th>brightness</th>\n",
              "      <th>scan</th>\n",
              "      <th>acq_date</th>\n",
              "      <th>acq_time</th>\n",
              "      <th>satellite</th>\n",
              "      <th>confidence</th>\n",
              "      <th>bright_t31</th>\n",
              "      <th>frp</th>\n",
              "      <th>daynight</th>\n",
              "      <th>type_0</th>\n",
              "      <th>type_2</th>\n",
              "      <th>type_3</th>\n",
              "    </tr>\n",
              "  </thead>\n",
              "  <tbody>\n",
              "    <tr>\n",
              "      <th>0</th>\n",
              "      <td>-11.8070</td>\n",
              "      <td>142.0583</td>\n",
              "      <td>313.0</td>\n",
              "      <td>1.0</td>\n",
              "      <td>2019-08-01</td>\n",
              "      <td>56</td>\n",
              "      <td>1</td>\n",
              "      <td>48</td>\n",
              "      <td>297.3</td>\n",
              "      <td>6.6</td>\n",
              "      <td>1</td>\n",
              "      <td>1</td>\n",
              "      <td>0</td>\n",
              "      <td>0</td>\n",
              "    </tr>\n",
              "    <tr>\n",
              "      <th>1</th>\n",
              "      <td>-11.7924</td>\n",
              "      <td>142.0850</td>\n",
              "      <td>319.3</td>\n",
              "      <td>1.0</td>\n",
              "      <td>2019-08-01</td>\n",
              "      <td>56</td>\n",
              "      <td>1</td>\n",
              "      <td>71</td>\n",
              "      <td>297.3</td>\n",
              "      <td>11.3</td>\n",
              "      <td>1</td>\n",
              "      <td>1</td>\n",
              "      <td>0</td>\n",
              "      <td>0</td>\n",
              "    </tr>\n",
              "    <tr>\n",
              "      <th>2</th>\n",
              "      <td>-12.8398</td>\n",
              "      <td>132.8744</td>\n",
              "      <td>311.6</td>\n",
              "      <td>3.1</td>\n",
              "      <td>2019-08-01</td>\n",
              "      <td>57</td>\n",
              "      <td>1</td>\n",
              "      <td>42</td>\n",
              "      <td>298.7</td>\n",
              "      <td>23.1</td>\n",
              "      <td>1</td>\n",
              "      <td>1</td>\n",
              "      <td>0</td>\n",
              "      <td>0</td>\n",
              "    </tr>\n",
              "    <tr>\n",
              "      <th>3</th>\n",
              "      <td>-14.4306</td>\n",
              "      <td>143.3035</td>\n",
              "      <td>310.1</td>\n",
              "      <td>1.1</td>\n",
              "      <td>2019-08-01</td>\n",
              "      <td>57</td>\n",
              "      <td>1</td>\n",
              "      <td>33</td>\n",
              "      <td>296.1</td>\n",
              "      <td>6.5</td>\n",
              "      <td>1</td>\n",
              "      <td>1</td>\n",
              "      <td>0</td>\n",
              "      <td>0</td>\n",
              "    </tr>\n",
              "    <tr>\n",
              "      <th>4</th>\n",
              "      <td>-12.4953</td>\n",
              "      <td>131.4897</td>\n",
              "      <td>310.3</td>\n",
              "      <td>4.0</td>\n",
              "      <td>2019-08-01</td>\n",
              "      <td>57</td>\n",
              "      <td>1</td>\n",
              "      <td>36</td>\n",
              "      <td>298.8</td>\n",
              "      <td>27.6</td>\n",
              "      <td>1</td>\n",
              "      <td>1</td>\n",
              "      <td>0</td>\n",
              "      <td>0</td>\n",
              "    </tr>\n",
              "  </tbody>\n",
              "</table>\n",
              "</div>"
            ],
            "text/plain": [
              "   latitude  longitude  brightness  scan  ... daynight  type_0  type_2  type_3\n",
              "0  -11.8070   142.0583       313.0   1.0  ...        1       1       0       0\n",
              "1  -11.7924   142.0850       319.3   1.0  ...        1       1       0       0\n",
              "2  -12.8398   132.8744       311.6   3.1  ...        1       1       0       0\n",
              "3  -14.4306   143.3035       310.1   1.1  ...        1       1       0       0\n",
              "4  -12.4953   131.4897       310.3   4.0  ...        1       1       0       0\n",
              "\n",
              "[5 rows x 14 columns]"
            ]
          },
          "metadata": {},
          "execution_count": 14
        }
      ]
    },
    {
      "cell_type": "code",
      "metadata": {
        "colab": {
          "base_uri": "https://localhost:8080/",
          "height": 307
        },
        "id": "a9j6VNrS2HZZ",
        "outputId": "db4d7540-4786-4fc9-e8b1-fdb6ec0278c1"
      },
      "source": [
        "# Now I mentioned we will be converting scan column to categorical type, we will be doing this using binning method.\n",
        "# Range for this columns was 1 to 4.8\n",
        "\n",
        "bins = [0, 1, 2, 3, 4, 5]\n",
        "labels = [1,2,3,4,5]\n",
        "df['scan_binned'] = pd.cut(df['scan'], bins=bins, labels=labels)\n",
        "\n",
        "df.head()"
      ],
      "execution_count": 15,
      "outputs": [
        {
          "output_type": "execute_result",
          "data": {
            "text/html": [
              "<div>\n",
              "<style scoped>\n",
              "    .dataframe tbody tr th:only-of-type {\n",
              "        vertical-align: middle;\n",
              "    }\n",
              "\n",
              "    .dataframe tbody tr th {\n",
              "        vertical-align: top;\n",
              "    }\n",
              "\n",
              "    .dataframe thead th {\n",
              "        text-align: right;\n",
              "    }\n",
              "</style>\n",
              "<table border=\"1\" class=\"dataframe\">\n",
              "  <thead>\n",
              "    <tr style=\"text-align: right;\">\n",
              "      <th></th>\n",
              "      <th>latitude</th>\n",
              "      <th>longitude</th>\n",
              "      <th>brightness</th>\n",
              "      <th>scan</th>\n",
              "      <th>acq_date</th>\n",
              "      <th>acq_time</th>\n",
              "      <th>satellite</th>\n",
              "      <th>confidence</th>\n",
              "      <th>bright_t31</th>\n",
              "      <th>frp</th>\n",
              "      <th>daynight</th>\n",
              "      <th>type_0</th>\n",
              "      <th>type_2</th>\n",
              "      <th>type_3</th>\n",
              "      <th>scan_binned</th>\n",
              "    </tr>\n",
              "  </thead>\n",
              "  <tbody>\n",
              "    <tr>\n",
              "      <th>0</th>\n",
              "      <td>-11.8070</td>\n",
              "      <td>142.0583</td>\n",
              "      <td>313.0</td>\n",
              "      <td>1.0</td>\n",
              "      <td>2019-08-01</td>\n",
              "      <td>56</td>\n",
              "      <td>1</td>\n",
              "      <td>48</td>\n",
              "      <td>297.3</td>\n",
              "      <td>6.6</td>\n",
              "      <td>1</td>\n",
              "      <td>1</td>\n",
              "      <td>0</td>\n",
              "      <td>0</td>\n",
              "      <td>1</td>\n",
              "    </tr>\n",
              "    <tr>\n",
              "      <th>1</th>\n",
              "      <td>-11.7924</td>\n",
              "      <td>142.0850</td>\n",
              "      <td>319.3</td>\n",
              "      <td>1.0</td>\n",
              "      <td>2019-08-01</td>\n",
              "      <td>56</td>\n",
              "      <td>1</td>\n",
              "      <td>71</td>\n",
              "      <td>297.3</td>\n",
              "      <td>11.3</td>\n",
              "      <td>1</td>\n",
              "      <td>1</td>\n",
              "      <td>0</td>\n",
              "      <td>0</td>\n",
              "      <td>1</td>\n",
              "    </tr>\n",
              "    <tr>\n",
              "      <th>2</th>\n",
              "      <td>-12.8398</td>\n",
              "      <td>132.8744</td>\n",
              "      <td>311.6</td>\n",
              "      <td>3.1</td>\n",
              "      <td>2019-08-01</td>\n",
              "      <td>57</td>\n",
              "      <td>1</td>\n",
              "      <td>42</td>\n",
              "      <td>298.7</td>\n",
              "      <td>23.1</td>\n",
              "      <td>1</td>\n",
              "      <td>1</td>\n",
              "      <td>0</td>\n",
              "      <td>0</td>\n",
              "      <td>4</td>\n",
              "    </tr>\n",
              "    <tr>\n",
              "      <th>3</th>\n",
              "      <td>-14.4306</td>\n",
              "      <td>143.3035</td>\n",
              "      <td>310.1</td>\n",
              "      <td>1.1</td>\n",
              "      <td>2019-08-01</td>\n",
              "      <td>57</td>\n",
              "      <td>1</td>\n",
              "      <td>33</td>\n",
              "      <td>296.1</td>\n",
              "      <td>6.5</td>\n",
              "      <td>1</td>\n",
              "      <td>1</td>\n",
              "      <td>0</td>\n",
              "      <td>0</td>\n",
              "      <td>2</td>\n",
              "    </tr>\n",
              "    <tr>\n",
              "      <th>4</th>\n",
              "      <td>-12.4953</td>\n",
              "      <td>131.4897</td>\n",
              "      <td>310.3</td>\n",
              "      <td>4.0</td>\n",
              "      <td>2019-08-01</td>\n",
              "      <td>57</td>\n",
              "      <td>1</td>\n",
              "      <td>36</td>\n",
              "      <td>298.8</td>\n",
              "      <td>27.6</td>\n",
              "      <td>1</td>\n",
              "      <td>1</td>\n",
              "      <td>0</td>\n",
              "      <td>0</td>\n",
              "      <td>4</td>\n",
              "    </tr>\n",
              "  </tbody>\n",
              "</table>\n",
              "</div>"
            ],
            "text/plain": [
              "   latitude  longitude  brightness  scan  ... type_0  type_2  type_3  scan_binned\n",
              "0  -11.8070   142.0583       313.0   1.0  ...      1       0       0            1\n",
              "1  -11.7924   142.0850       319.3   1.0  ...      1       0       0            1\n",
              "2  -12.8398   132.8744       311.6   3.1  ...      1       0       0            4\n",
              "3  -14.4306   143.3035       310.1   1.1  ...      1       0       0            2\n",
              "4  -12.4953   131.4897       310.3   4.0  ...      1       0       0            4\n",
              "\n",
              "[5 rows x 15 columns]"
            ]
          },
          "metadata": {},
          "execution_count": 15
        }
      ]
    },
    {
      "cell_type": "code",
      "metadata": {
        "colab": {
          "base_uri": "https://localhost:8080/",
          "height": 212
        },
        "id": "MXi70MYo2Sbj",
        "outputId": "bab8f153-043f-4bbf-872d-b19489ecbb6b"
      },
      "source": [
        "# Converting the datatype to datetype from string or numpy.\n",
        "\n",
        "df['acq_date'] = pd.to_datetime(df['acq_date'])\n",
        "df.head(3)"
      ],
      "execution_count": 16,
      "outputs": [
        {
          "output_type": "execute_result",
          "data": {
            "text/html": [
              "<div>\n",
              "<style scoped>\n",
              "    .dataframe tbody tr th:only-of-type {\n",
              "        vertical-align: middle;\n",
              "    }\n",
              "\n",
              "    .dataframe tbody tr th {\n",
              "        vertical-align: top;\n",
              "    }\n",
              "\n",
              "    .dataframe thead th {\n",
              "        text-align: right;\n",
              "    }\n",
              "</style>\n",
              "<table border=\"1\" class=\"dataframe\">\n",
              "  <thead>\n",
              "    <tr style=\"text-align: right;\">\n",
              "      <th></th>\n",
              "      <th>latitude</th>\n",
              "      <th>longitude</th>\n",
              "      <th>brightness</th>\n",
              "      <th>scan</th>\n",
              "      <th>acq_date</th>\n",
              "      <th>acq_time</th>\n",
              "      <th>satellite</th>\n",
              "      <th>confidence</th>\n",
              "      <th>bright_t31</th>\n",
              "      <th>frp</th>\n",
              "      <th>daynight</th>\n",
              "      <th>type_0</th>\n",
              "      <th>type_2</th>\n",
              "      <th>type_3</th>\n",
              "      <th>scan_binned</th>\n",
              "    </tr>\n",
              "  </thead>\n",
              "  <tbody>\n",
              "    <tr>\n",
              "      <th>0</th>\n",
              "      <td>-11.8070</td>\n",
              "      <td>142.0583</td>\n",
              "      <td>313.0</td>\n",
              "      <td>1.0</td>\n",
              "      <td>2019-08-01</td>\n",
              "      <td>56</td>\n",
              "      <td>1</td>\n",
              "      <td>48</td>\n",
              "      <td>297.3</td>\n",
              "      <td>6.6</td>\n",
              "      <td>1</td>\n",
              "      <td>1</td>\n",
              "      <td>0</td>\n",
              "      <td>0</td>\n",
              "      <td>1</td>\n",
              "    </tr>\n",
              "    <tr>\n",
              "      <th>1</th>\n",
              "      <td>-11.7924</td>\n",
              "      <td>142.0850</td>\n",
              "      <td>319.3</td>\n",
              "      <td>1.0</td>\n",
              "      <td>2019-08-01</td>\n",
              "      <td>56</td>\n",
              "      <td>1</td>\n",
              "      <td>71</td>\n",
              "      <td>297.3</td>\n",
              "      <td>11.3</td>\n",
              "      <td>1</td>\n",
              "      <td>1</td>\n",
              "      <td>0</td>\n",
              "      <td>0</td>\n",
              "      <td>1</td>\n",
              "    </tr>\n",
              "    <tr>\n",
              "      <th>2</th>\n",
              "      <td>-12.8398</td>\n",
              "      <td>132.8744</td>\n",
              "      <td>311.6</td>\n",
              "      <td>3.1</td>\n",
              "      <td>2019-08-01</td>\n",
              "      <td>57</td>\n",
              "      <td>1</td>\n",
              "      <td>42</td>\n",
              "      <td>298.7</td>\n",
              "      <td>23.1</td>\n",
              "      <td>1</td>\n",
              "      <td>1</td>\n",
              "      <td>0</td>\n",
              "      <td>0</td>\n",
              "      <td>4</td>\n",
              "    </tr>\n",
              "  </tbody>\n",
              "</table>\n",
              "</div>"
            ],
            "text/plain": [
              "   latitude  longitude  brightness  scan  ... type_0  type_2  type_3  scan_binned\n",
              "0  -11.8070   142.0583       313.0   1.0  ...      1       0       0            1\n",
              "1  -11.7924   142.0850       319.3   1.0  ...      1       0       0            1\n",
              "2  -12.8398   132.8744       311.6   3.1  ...      1       0       0            4\n",
              "\n",
              "[3 rows x 15 columns]"
            ]
          },
          "metadata": {},
          "execution_count": 16
        }
      ]
    },
    {
      "cell_type": "code",
      "metadata": {
        "id": "Zhb3bVtm3r68"
      },
      "source": [
        "# Now we will be dropping scan column and handle date type data - we can extract useful information from these datatypes \n",
        "# just like we do with categorical data.\n",
        "\n",
        "df = df.drop(['scan'], axis = 1)"
      ],
      "execution_count": 17,
      "outputs": []
    },
    {
      "cell_type": "code",
      "metadata": {
        "colab": {
          "base_uri": "https://localhost:8080/",
          "height": 307
        },
        "id": "zeSca8463waM",
        "outputId": "8ed7fbe9-22c1-4f13-a018-a096cfa3e87e"
      },
      "source": [
        "df['year'] = df['acq_date'].dt.year\n",
        "\n",
        "df.head()"
      ],
      "execution_count": 18,
      "outputs": [
        {
          "output_type": "execute_result",
          "data": {
            "text/html": [
              "<div>\n",
              "<style scoped>\n",
              "    .dataframe tbody tr th:only-of-type {\n",
              "        vertical-align: middle;\n",
              "    }\n",
              "\n",
              "    .dataframe tbody tr th {\n",
              "        vertical-align: top;\n",
              "    }\n",
              "\n",
              "    .dataframe thead th {\n",
              "        text-align: right;\n",
              "    }\n",
              "</style>\n",
              "<table border=\"1\" class=\"dataframe\">\n",
              "  <thead>\n",
              "    <tr style=\"text-align: right;\">\n",
              "      <th></th>\n",
              "      <th>latitude</th>\n",
              "      <th>longitude</th>\n",
              "      <th>brightness</th>\n",
              "      <th>acq_date</th>\n",
              "      <th>acq_time</th>\n",
              "      <th>satellite</th>\n",
              "      <th>confidence</th>\n",
              "      <th>bright_t31</th>\n",
              "      <th>frp</th>\n",
              "      <th>daynight</th>\n",
              "      <th>type_0</th>\n",
              "      <th>type_2</th>\n",
              "      <th>type_3</th>\n",
              "      <th>scan_binned</th>\n",
              "      <th>year</th>\n",
              "    </tr>\n",
              "  </thead>\n",
              "  <tbody>\n",
              "    <tr>\n",
              "      <th>0</th>\n",
              "      <td>-11.8070</td>\n",
              "      <td>142.0583</td>\n",
              "      <td>313.0</td>\n",
              "      <td>2019-08-01</td>\n",
              "      <td>56</td>\n",
              "      <td>1</td>\n",
              "      <td>48</td>\n",
              "      <td>297.3</td>\n",
              "      <td>6.6</td>\n",
              "      <td>1</td>\n",
              "      <td>1</td>\n",
              "      <td>0</td>\n",
              "      <td>0</td>\n",
              "      <td>1</td>\n",
              "      <td>2019</td>\n",
              "    </tr>\n",
              "    <tr>\n",
              "      <th>1</th>\n",
              "      <td>-11.7924</td>\n",
              "      <td>142.0850</td>\n",
              "      <td>319.3</td>\n",
              "      <td>2019-08-01</td>\n",
              "      <td>56</td>\n",
              "      <td>1</td>\n",
              "      <td>71</td>\n",
              "      <td>297.3</td>\n",
              "      <td>11.3</td>\n",
              "      <td>1</td>\n",
              "      <td>1</td>\n",
              "      <td>0</td>\n",
              "      <td>0</td>\n",
              "      <td>1</td>\n",
              "      <td>2019</td>\n",
              "    </tr>\n",
              "    <tr>\n",
              "      <th>2</th>\n",
              "      <td>-12.8398</td>\n",
              "      <td>132.8744</td>\n",
              "      <td>311.6</td>\n",
              "      <td>2019-08-01</td>\n",
              "      <td>57</td>\n",
              "      <td>1</td>\n",
              "      <td>42</td>\n",
              "      <td>298.7</td>\n",
              "      <td>23.1</td>\n",
              "      <td>1</td>\n",
              "      <td>1</td>\n",
              "      <td>0</td>\n",
              "      <td>0</td>\n",
              "      <td>4</td>\n",
              "      <td>2019</td>\n",
              "    </tr>\n",
              "    <tr>\n",
              "      <th>3</th>\n",
              "      <td>-14.4306</td>\n",
              "      <td>143.3035</td>\n",
              "      <td>310.1</td>\n",
              "      <td>2019-08-01</td>\n",
              "      <td>57</td>\n",
              "      <td>1</td>\n",
              "      <td>33</td>\n",
              "      <td>296.1</td>\n",
              "      <td>6.5</td>\n",
              "      <td>1</td>\n",
              "      <td>1</td>\n",
              "      <td>0</td>\n",
              "      <td>0</td>\n",
              "      <td>2</td>\n",
              "      <td>2019</td>\n",
              "    </tr>\n",
              "    <tr>\n",
              "      <th>4</th>\n",
              "      <td>-12.4953</td>\n",
              "      <td>131.4897</td>\n",
              "      <td>310.3</td>\n",
              "      <td>2019-08-01</td>\n",
              "      <td>57</td>\n",
              "      <td>1</td>\n",
              "      <td>36</td>\n",
              "      <td>298.8</td>\n",
              "      <td>27.6</td>\n",
              "      <td>1</td>\n",
              "      <td>1</td>\n",
              "      <td>0</td>\n",
              "      <td>0</td>\n",
              "      <td>4</td>\n",
              "      <td>2019</td>\n",
              "    </tr>\n",
              "  </tbody>\n",
              "</table>\n",
              "</div>"
            ],
            "text/plain": [
              "   latitude  longitude  brightness   acq_date  ...  type_2  type_3  scan_binned  year\n",
              "0  -11.8070   142.0583       313.0 2019-08-01  ...       0       0            1  2019\n",
              "1  -11.7924   142.0850       319.3 2019-08-01  ...       0       0            1  2019\n",
              "2  -12.8398   132.8744       311.6 2019-08-01  ...       0       0            4  2019\n",
              "3  -14.4306   143.3035       310.1 2019-08-01  ...       0       0            2  2019\n",
              "4  -12.4953   131.4897       310.3 2019-08-01  ...       0       0            4  2019\n",
              "\n",
              "[5 rows x 15 columns]"
            ]
          },
          "metadata": {},
          "execution_count": 18
        }
      ]
    },
    {
      "cell_type": "code",
      "metadata": {
        "id": "SdGYvsub46-n"
      },
      "source": [
        "df['month'] = df['acq_date'].dt.month\n",
        "df['day'] = df['acq_date'].dt.day"
      ],
      "execution_count": 19,
      "outputs": []
    },
    {
      "cell_type": "code",
      "metadata": {
        "colab": {
          "base_uri": "https://localhost:8080/"
        },
        "id": "fhf1dQKy6fK7",
        "outputId": "57fe7dec-4861-4569-8713-c2c2df31c122"
      },
      "source": [
        "df.shape"
      ],
      "execution_count": 20,
      "outputs": [
        {
          "output_type": "execute_result",
          "data": {
            "text/plain": [
              "(36011, 17)"
            ]
          },
          "metadata": {},
          "execution_count": 20
        }
      ]
    },
    {
      "cell_type": "code",
      "metadata": {
        "id": "mRxSHhcW7NWG"
      },
      "source": [
        "# Separating our target varibale:\n",
        "\n",
        "y = df['confidence']\n",
        "fin = df.drop(['confidence', 'acq_date', 'acq_time', 'bright_t31', 'type_0'], axis = 1)"
      ],
      "execution_count": 21,
      "outputs": []
    },
    {
      "cell_type": "code",
      "metadata": {
        "colab": {
          "base_uri": "https://localhost:8080/",
          "height": 655
        },
        "id": "2d66c1qQ7n_5",
        "outputId": "5d58a2eb-9976-4a8a-964a-dfdde13ffd0f"
      },
      "source": [
        "plt.figure(figsize=(10, 10))\n",
        "sns.heatmap(fin.corr(),annot=True,cmap='viridis',linewidths=.5)"
      ],
      "execution_count": 22,
      "outputs": [
        {
          "output_type": "execute_result",
          "data": {
            "text/plain": [
              "<matplotlib.axes._subplots.AxesSubplot at 0x7f7947f9cdd0>"
            ]
          },
          "metadata": {},
          "execution_count": 22
        },
        {
          "output_type": "display_data",
          "data": {
            "image/png": "[encoded data removed]",
            "text/plain": [
              "<Figure size 720x720 with 2 Axes>"
            ]
          },
          "metadata": {
            "needs_background": "light"
          }
        }
      ]
    },
    {
      "cell_type": "code",
      "metadata": {
        "colab": {
          "base_uri": "https://localhost:8080/",
          "height": 203
        },
        "id": "i0rE76hr8F1l",
        "outputId": "594d8389-08a6-4cc9-e9ee-420a8a609f6a"
      },
      "source": [
        "fin.head()"
      ],
      "execution_count": 23,
      "outputs": [
        {
          "output_type": "execute_result",
          "data": {
            "text/html": [
              "<div>\n",
              "<style scoped>\n",
              "    .dataframe tbody tr th:only-of-type {\n",
              "        vertical-align: middle;\n",
              "    }\n",
              "\n",
              "    .dataframe tbody tr th {\n",
              "        vertical-align: top;\n",
              "    }\n",
              "\n",
              "    .dataframe thead th {\n",
              "        text-align: right;\n",
              "    }\n",
              "</style>\n",
              "<table border=\"1\" class=\"dataframe\">\n",
              "  <thead>\n",
              "    <tr style=\"text-align: right;\">\n",
              "      <th></th>\n",
              "      <th>latitude</th>\n",
              "      <th>longitude</th>\n",
              "      <th>brightness</th>\n",
              "      <th>satellite</th>\n",
              "      <th>frp</th>\n",
              "      <th>daynight</th>\n",
              "      <th>type_2</th>\n",
              "      <th>type_3</th>\n",
              "      <th>scan_binned</th>\n",
              "      <th>year</th>\n",
              "      <th>month</th>\n",
              "      <th>day</th>\n",
              "    </tr>\n",
              "  </thead>\n",
              "  <tbody>\n",
              "    <tr>\n",
              "      <th>0</th>\n",
              "      <td>-11.8070</td>\n",
              "      <td>142.0583</td>\n",
              "      <td>313.0</td>\n",
              "      <td>1</td>\n",
              "      <td>6.6</td>\n",
              "      <td>1</td>\n",
              "      <td>0</td>\n",
              "      <td>0</td>\n",
              "      <td>1</td>\n",
              "      <td>2019</td>\n",
              "      <td>8</td>\n",
              "      <td>1</td>\n",
              "    </tr>\n",
              "    <tr>\n",
              "      <th>1</th>\n",
              "      <td>-11.7924</td>\n",
              "      <td>142.0850</td>\n",
              "      <td>319.3</td>\n",
              "      <td>1</td>\n",
              "      <td>11.3</td>\n",
              "      <td>1</td>\n",
              "      <td>0</td>\n",
              "      <td>0</td>\n",
              "      <td>1</td>\n",
              "      <td>2019</td>\n",
              "      <td>8</td>\n",
              "      <td>1</td>\n",
              "    </tr>\n",
              "    <tr>\n",
              "      <th>2</th>\n",
              "      <td>-12.8398</td>\n",
              "      <td>132.8744</td>\n",
              "      <td>311.6</td>\n",
              "      <td>1</td>\n",
              "      <td>23.1</td>\n",
              "      <td>1</td>\n",
              "      <td>0</td>\n",
              "      <td>0</td>\n",
              "      <td>4</td>\n",
              "      <td>2019</td>\n",
              "      <td>8</td>\n",
              "      <td>1</td>\n",
              "    </tr>\n",
              "    <tr>\n",
              "      <th>3</th>\n",
              "      <td>-14.4306</td>\n",
              "      <td>143.3035</td>\n",
              "      <td>310.1</td>\n",
              "      <td>1</td>\n",
              "      <td>6.5</td>\n",
              "      <td>1</td>\n",
              "      <td>0</td>\n",
              "      <td>0</td>\n",
              "      <td>2</td>\n",
              "      <td>2019</td>\n",
              "      <td>8</td>\n",
              "      <td>1</td>\n",
              "    </tr>\n",
              "    <tr>\n",
              "      <th>4</th>\n",
              "      <td>-12.4953</td>\n",
              "      <td>131.4897</td>\n",
              "      <td>310.3</td>\n",
              "      <td>1</td>\n",
              "      <td>27.6</td>\n",
              "      <td>1</td>\n",
              "      <td>0</td>\n",
              "      <td>0</td>\n",
              "      <td>4</td>\n",
              "      <td>2019</td>\n",
              "      <td>8</td>\n",
              "      <td>1</td>\n",
              "    </tr>\n",
              "  </tbody>\n",
              "</table>\n",
              "</div>"
            ],
            "text/plain": [
              "   latitude  longitude  brightness  satellite  ...  scan_binned  year  month  day\n",
              "0  -11.8070   142.0583       313.0          1  ...            1  2019      8    1\n",
              "1  -11.7924   142.0850       319.3          1  ...            1  2019      8    1\n",
              "2  -12.8398   132.8744       311.6          1  ...            4  2019      8    1\n",
              "3  -14.4306   143.3035       310.1          1  ...            2  2019      8    1\n",
              "4  -12.4953   131.4897       310.3          1  ...            4  2019      8    1\n",
              "\n",
              "[5 rows x 12 columns]"
            ]
          },
          "metadata": {},
          "execution_count": 23
        }
      ]
    },
    {
      "cell_type": "markdown",
      "metadata": {
        "id": "L-6JsdDq8JEQ"
      },
      "source": [
        "Splitting the clean data into training and testing dataset"
      ]
    },
    {
      "cell_type": "code",
      "metadata": {
        "id": "PGRAKBIr8L8E"
      },
      "source": [
        "Xtrain, Xtest, ytrain, ytest = train_test_split(fin.iloc[:, :500], y, test_size=0.2)"
      ],
      "execution_count": 24,
      "outputs": []
    },
    {
      "cell_type": "markdown",
      "metadata": {
        "id": "CBEwY1dlATxC"
      },
      "source": [
        "Using RandomForestRegressor for model building"
      ]
    },
    {
      "cell_type": "code",
      "metadata": {
        "id": "8f7y0uNy_MHT"
      },
      "source": [
        "random_model = RandomForestRegressor(n_estimators=300, random_state = 42, n_jobs = -1)"
      ],
      "execution_count": 25,
      "outputs": []
    },
    {
      "cell_type": "code",
      "metadata": {
        "colab": {
          "base_uri": "https://localhost:8080/"
        },
        "id": "sV1RI9X7BKgI",
        "outputId": "7b3f8ef5-5d2b-4f06-b0cc-c63a18770733"
      },
      "source": [
        "#Fit\n",
        "random_model.fit(Xtrain, ytrain)\n",
        "\n",
        "y_pred = random_model.predict(Xtest)\n",
        "\n",
        "#Checking the accuracy\n",
        "random_model_accuracy = round(random_model.score(Xtrain, ytrain)*100,2)\n",
        "print(round(random_model_accuracy, 2), '%')"
      ],
      "execution_count": 26,
      "outputs": [
        {
          "output_type": "stream",
          "name": "stdout",
          "text": [
            "95.33 %\n"
          ]
        }
      ]
    },
    {
      "cell_type": "code",
      "metadata": {
        "colab": {
          "base_uri": "https://localhost:8080/"
        },
        "id": "7-F7uLL0BUxO",
        "outputId": "fd9c36c4-20d3-4303-8739-d91bf80a2152"
      },
      "source": [
        "#Checking the accuracy\n",
        "random_model_accuracy1 = round(random_model.score(Xtest, ytest)*100,2)\n",
        "print(round(random_model_accuracy1, 2), '%')"
      ],
      "execution_count": 27,
      "outputs": [
        {
          "output_type": "stream",
          "name": "stdout",
          "text": [
            "64.88 %\n"
          ]
        }
      ]
    },
    {
      "cell_type": "code",
      "metadata": {
        "id": "f8qNZ_9iBwpz"
      },
      "source": [
        "# Save the trained model as a pickle string.\n",
        "import pickle \n",
        "\n",
        "saved_model = pickle.dump(random_model, open('ForestModelOld.pickle','wb'))"
      ],
      "execution_count": 32,
      "outputs": []
    },
    {
      "cell_type": "markdown",
      "metadata": {
        "id": "cwPITlOli-_C"
      },
      "source": [
        "Model Tuning"
      ]
    },
    {
      "cell_type": "code",
      "metadata": {
        "colab": {
          "base_uri": "https://localhost:8080/"
        },
        "id": "5MzPp39VCCRX",
        "outputId": "0b35b4fd-4b77-450e-af10-86cbc4292e22"
      },
      "source": [
        "random_model.get_params()"
      ],
      "execution_count": 29,
      "outputs": [
        {
          "output_type": "execute_result",
          "data": {
            "text/plain": [
              "{'bootstrap': True,\n",
              " 'ccp_alpha': 0.0,\n",
              " 'criterion': 'mse',\n",
              " 'max_depth': None,\n",
              " 'max_features': 'auto',\n",
              " 'max_leaf_nodes': None,\n",
              " 'max_samples': None,\n",
              " 'min_impurity_decrease': 0.0,\n",
              " 'min_impurity_split': None,\n",
              " 'min_samples_leaf': 1,\n",
              " 'min_samples_split': 2,\n",
              " 'min_weight_fraction_leaf': 0.0,\n",
              " 'n_estimators': 300,\n",
              " 'n_jobs': -1,\n",
              " 'oob_score': False,\n",
              " 'random_state': 42,\n",
              " 'verbose': 0,\n",
              " 'warm_start': False}"
            ]
          },
          "metadata": {},
          "execution_count": 29
        }
      ]
    },
    {
      "cell_type": "code",
      "metadata": {
        "id": "S2KcisppjOw6"
      },
      "source": [
        "from sklearn.model_selection import RandomizedSearchCV"
      ],
      "execution_count": 30,
      "outputs": []
    },
    {
      "cell_type": "code",
      "metadata": {
        "colab": {
          "base_uri": "https://localhost:8080/"
        },
        "id": "sVXk8howkdwg",
        "outputId": "89099723-6885-4069-bd5c-400f4aea3ed7"
      },
      "source": [
        "# Number of trees in random forest\n",
        "n_estimators = [int(x) for x in np.linspace(start = 300, stop = 500, num = 20)]\n",
        "# Number of features to consider at every split\n",
        "max_features = ['auto', 'sqrt']\n",
        "# Maximum number of levels in tree\n",
        "max_depth = [int(x) for x in np.linspace(15, 35, num = 7)]\n",
        "max_depth.append(None)\n",
        "# Minimum number of samples required to split a node\n",
        "min_samples_split = [2, 3, 5]\n",
        "# Minimum number of samples required at each leaf node\n",
        "min_samples_leaf = [1, 2, 4]\n",
        "# Create the random grid\n",
        "random_grid = {'n_estimators': n_estimators,\n",
        "               'max_features': max_features,\n",
        "               'max_depth': max_depth,\n",
        "               'min_samples_split': min_samples_split,\n",
        "               'min_samples_leaf': min_samples_leaf,\n",
        "                }\n",
        "print(random_grid)"
      ],
      "execution_count": 33,
      "outputs": [
        {
          "output_type": "stream",
          "name": "stdout",
          "text": [
            "{'n_estimators': [300, 310, 321, 331, 342, 352, 363, 373, 384, 394, 405, 415, 426, 436, 447, 457, 468, 478, 489, 500], 'max_features': ['auto', 'sqrt'], 'max_depth': [15, 18, 21, 25, 28, 31, 35, None], 'min_samples_split': [2, 3, 5], 'min_samples_leaf': [1, 2, 4]}\n"
          ]
        }
      ]
    },
    {
      "cell_type": "code",
      "metadata": {
        "colab": {
          "base_uri": "https://localhost:8080/"
        },
        "id": "ePJu1D4Dk1bB",
        "outputId": "883f0153-3833-442a-8160-5976304b02cd"
      },
      "source": [
        "# Random search of parameters, using 3 fold cross validation, \n",
        "# search across 100 different combinations, and use all available cores\n",
        "\n",
        "# n_iter, which controls the number of different combinations to try, and cv which is the number of folds to use for cross validation\n",
        "rf_random = RandomizedSearchCV(estimator = random_model, param_distributions = random_grid, n_iter = 50, cv = 3, verbose=2, random_state=42)\n",
        "# Fit the random search model\n",
        "rf_random.fit(Xtrain, ytrain)"
      ],
      "execution_count": null,
      "outputs": [
        {
          "output_type": "stream",
          "name": "stdout",
          "text": [
            "Fitting 3 folds for each of 50 candidates, totalling 150 fits\n",
            "[CV] n_estimators=415, min_samples_split=5, min_samples_leaf=2, max_features=auto, max_depth=18 \n"
          ]
        },
        {
          "output_type": "stream",
          "name": "stderr",
          "text": [
            "[Parallel(n_jobs=1)]: Using backend SequentialBackend with 1 concurrent workers.\n"
          ]
        },
        {
          "output_type": "stream",
          "name": "stdout",
          "text": [
            "[CV]  n_estimators=415, min_samples_split=5, min_samples_leaf=2, max_features=auto, max_depth=18, total=  30.1s\n",
            "[CV] n_estimators=415, min_samples_split=5, min_samples_leaf=2, max_features=auto, max_depth=18 \n"
          ]
        },
        {
          "output_type": "stream",
          "name": "stderr",
          "text": [
            "[Parallel(n_jobs=1)]: Done   1 out of   1 | elapsed:   30.1s remaining:    0.0s\n"
          ]
        },
        {
          "output_type": "stream",
          "name": "stdout",
          "text": [
            "[CV]  n_estimators=415, min_samples_split=5, min_samples_leaf=2, max_features=auto, max_depth=18, total=  28.3s\n",
            "[CV] n_estimators=415, min_samples_split=5, min_samples_leaf=2, max_features=auto, max_depth=18 \n",
            "[CV]  n_estimators=415, min_samples_split=5, min_samples_leaf=2, max_features=auto, max_depth=18, total=  28.3s\n",
            "[CV] n_estimators=436, min_samples_split=2, min_samples_leaf=1, max_features=auto, max_depth=28 \n",
            "[CV]  n_estimators=436, min_samples_split=2, min_samples_leaf=1, max_features=auto, max_depth=28, total=  35.9s\n",
            "[CV] n_estimators=436, min_samples_split=2, min_samples_leaf=1, max_features=auto, max_depth=28 \n",
            "[CV]  n_estimators=436, min_samples_split=2, min_samples_leaf=1, max_features=auto, max_depth=28, total=  35.8s\n",
            "[CV] n_estimators=436, min_samples_split=2, min_samples_leaf=1, max_features=auto, max_depth=28 \n",
            "[CV]  n_estimators=436, min_samples_split=2, min_samples_leaf=1, max_features=auto, max_depth=28, total=  36.0s\n",
            "[CV] n_estimators=478, min_samples_split=3, min_samples_leaf=1, max_features=sqrt, max_depth=35 \n",
            "[CV]  n_estimators=478, min_samples_split=3, min_samples_leaf=1, max_features=sqrt, max_depth=35, total=  14.1s\n",
            "[CV] n_estimators=478, min_samples_split=3, min_samples_leaf=1, max_features=sqrt, max_depth=35 \n",
            "[CV]  n_estimators=478, min_samples_split=3, min_samples_leaf=1, max_features=sqrt, max_depth=35, total=  14.2s\n",
            "[CV] n_estimators=478, min_samples_split=3, min_samples_leaf=1, max_features=sqrt, max_depth=35 \n",
            "[CV]  n_estimators=478, min_samples_split=3, min_samples_leaf=1, max_features=sqrt, max_depth=35, total=  14.2s\n",
            "[CV] n_estimators=310, min_samples_split=5, min_samples_leaf=4, max_features=auto, max_depth=28 \n",
            "[CV]  n_estimators=310, min_samples_split=5, min_samples_leaf=4, max_features=auto, max_depth=28, total=  20.0s\n",
            "[CV] n_estimators=310, min_samples_split=5, min_samples_leaf=4, max_features=auto, max_depth=28 \n",
            "[CV]  n_estimators=310, min_samples_split=5, min_samples_leaf=4, max_features=auto, max_depth=28, total=  20.0s\n",
            "[CV] n_estimators=310, min_samples_split=5, min_samples_leaf=4, max_features=auto, max_depth=28 \n",
            "[CV]  n_estimators=310, min_samples_split=5, min_samples_leaf=4, max_features=auto, max_depth=28, total=  20.1s\n",
            "[CV] n_estimators=447, min_samples_split=2, min_samples_leaf=1, max_features=auto, max_depth=25 \n",
            "[CV]  n_estimators=447, min_samples_split=2, min_samples_leaf=1, max_features=auto, max_depth=25, total=  36.7s\n",
            "[CV] n_estimators=447, min_samples_split=2, min_samples_leaf=1, max_features=auto, max_depth=25 \n",
            "[CV]  n_estimators=447, min_samples_split=2, min_samples_leaf=1, max_features=auto, max_depth=25, total=  36.7s\n",
            "[CV] n_estimators=447, min_samples_split=2, min_samples_leaf=1, max_features=auto, max_depth=25 \n",
            "[CV]  n_estimators=447, min_samples_split=2, min_samples_leaf=1, max_features=auto, max_depth=25, total=  36.7s\n",
            "[CV] n_estimators=457, min_samples_split=5, min_samples_leaf=4, max_features=auto, max_depth=25 \n",
            "[CV]  n_estimators=457, min_samples_split=5, min_samples_leaf=4, max_features=auto, max_depth=25, total=  29.2s\n",
            "[CV] n_estimators=457, min_samples_split=5, min_samples_leaf=4, max_features=auto, max_depth=25 \n",
            "[CV]  n_estimators=457, min_samples_split=5, min_samples_leaf=4, max_features=auto, max_depth=25, total=  29.4s\n",
            "[CV] n_estimators=457, min_samples_split=5, min_samples_leaf=4, max_features=auto, max_depth=25 \n",
            "[CV]  n_estimators=457, min_samples_split=5, min_samples_leaf=4, max_features=auto, max_depth=25, total=  29.4s\n",
            "[CV] n_estimators=384, min_samples_split=5, min_samples_leaf=1, max_features=auto, max_depth=25 \n",
            "[CV]  n_estimators=384, min_samples_split=5, min_samples_leaf=1, max_features=auto, max_depth=25, total=  28.6s\n",
            "[CV] n_estimators=384, min_samples_split=5, min_samples_leaf=1, max_features=auto, max_depth=25 \n",
            "[CV]  n_estimators=384, min_samples_split=5, min_samples_leaf=1, max_features=auto, max_depth=25, total=  28.5s\n",
            "[CV] n_estimators=384, min_samples_split=5, min_samples_leaf=1, max_features=auto, max_depth=25 \n",
            "[CV]  n_estimators=384, min_samples_split=5, min_samples_leaf=1, max_features=auto, max_depth=25, total=  28.7s\n",
            "[CV] n_estimators=426, min_samples_split=3, min_samples_leaf=2, max_features=auto, max_depth=35 \n",
            "[CV]  n_estimators=426, min_samples_split=3, min_samples_leaf=2, max_features=auto, max_depth=35, total=  31.0s\n",
            "[CV] n_estimators=426, min_samples_split=3, min_samples_leaf=2, max_features=auto, max_depth=35 \n",
            "[CV]  n_estimators=426, min_samples_split=3, min_samples_leaf=2, max_features=auto, max_depth=35, total=  31.0s\n",
            "[CV] n_estimators=426, min_samples_split=3, min_samples_leaf=2, max_features=auto, max_depth=35 \n",
            "[CV]  n_estimators=426, min_samples_split=3, min_samples_leaf=2, max_features=auto, max_depth=35, total=  31.0s\n",
            "[CV] n_estimators=352, min_samples_split=5, min_samples_leaf=1, max_features=sqrt, max_depth=21 \n",
            "[CV]  n_estimators=352, min_samples_split=5, min_samples_leaf=1, max_features=sqrt, max_depth=21, total=   9.3s\n",
            "[CV] n_estimators=352, min_samples_split=5, min_samples_leaf=1, max_features=sqrt, max_depth=21 \n",
            "[CV]  n_estimators=352, min_samples_split=5, min_samples_leaf=1, max_features=sqrt, max_depth=21, total=   9.2s\n",
            "[CV] n_estimators=352, min_samples_split=5, min_samples_leaf=1, max_features=sqrt, max_depth=21 \n",
            "[CV]  n_estimators=352, min_samples_split=5, min_samples_leaf=1, max_features=sqrt, max_depth=21, total=   9.3s\n",
            "[CV] n_estimators=300, min_samples_split=2, min_samples_leaf=1, max_features=auto, max_depth=31 \n",
            "[CV]  n_estimators=300, min_samples_split=2, min_samples_leaf=1, max_features=auto, max_depth=31, total=  24.7s\n",
            "[CV] n_estimators=300, min_samples_split=2, min_samples_leaf=1, max_features=auto, max_depth=31 \n",
            "[CV]  n_estimators=300, min_samples_split=2, min_samples_leaf=1, max_features=auto, max_depth=31, total=  24.8s\n",
            "[CV] n_estimators=300, min_samples_split=2, min_samples_leaf=1, max_features=auto, max_depth=31 \n",
            "[CV]  n_estimators=300, min_samples_split=2, min_samples_leaf=1, max_features=auto, max_depth=31, total=  24.7s\n",
            "[CV] n_estimators=447, min_samples_split=2, min_samples_leaf=2, max_features=sqrt, max_depth=None \n",
            "[CV]  n_estimators=447, min_samples_split=2, min_samples_leaf=2, max_features=sqrt, max_depth=None, total=  11.5s\n",
            "[CV] n_estimators=447, min_samples_split=2, min_samples_leaf=2, max_features=sqrt, max_depth=None \n",
            "[CV]  n_estimators=447, min_samples_split=2, min_samples_leaf=2, max_features=sqrt, max_depth=None, total=  11.5s\n",
            "[CV] n_estimators=447, min_samples_split=2, min_samples_leaf=2, max_features=sqrt, max_depth=None \n",
            "[CV]  n_estimators=447, min_samples_split=2, min_samples_leaf=2, max_features=sqrt, max_depth=None, total=  11.4s\n",
            "[CV] n_estimators=373, min_samples_split=3, min_samples_leaf=1, max_features=sqrt, max_depth=None \n",
            "[CV]  n_estimators=373, min_samples_split=3, min_samples_leaf=1, max_features=sqrt, max_depth=None, total=  11.0s\n",
            "[CV] n_estimators=373, min_samples_split=3, min_samples_leaf=1, max_features=sqrt, max_depth=None \n",
            "[CV]  n_estimators=373, min_samples_split=3, min_samples_leaf=1, max_features=sqrt, max_depth=None, total=  11.1s\n",
            "[CV] n_estimators=373, min_samples_split=3, min_samples_leaf=1, max_features=sqrt, max_depth=None \n",
            "[CV]  n_estimators=373, min_samples_split=3, min_samples_leaf=1, max_features=sqrt, max_depth=None, total=  11.0s\n",
            "[CV] n_estimators=384, min_samples_split=2, min_samples_leaf=1, max_features=auto, max_depth=18 \n",
            "[CV]  n_estimators=384, min_samples_split=2, min_samples_leaf=1, max_features=auto, max_depth=18, total=  28.5s\n",
            "[CV] n_estimators=384, min_samples_split=2, min_samples_leaf=1, max_features=auto, max_depth=18 \n",
            "[CV]  n_estimators=384, min_samples_split=2, min_samples_leaf=1, max_features=auto, max_depth=18, total=  28.6s\n",
            "[CV] n_estimators=384, min_samples_split=2, min_samples_leaf=1, max_features=auto, max_depth=18 \n",
            "[CV]  n_estimators=384, min_samples_split=2, min_samples_leaf=1, max_features=auto, max_depth=18, total=  28.5s\n",
            "[CV] n_estimators=300, min_samples_split=3, min_samples_leaf=4, max_features=sqrt, max_depth=28 \n",
            "[CV]  n_estimators=300, min_samples_split=3, min_samples_leaf=4, max_features=sqrt, max_depth=28, total=   6.5s\n",
            "[CV] n_estimators=300, min_samples_split=3, min_samples_leaf=4, max_features=sqrt, max_depth=28 \n",
            "[CV]  n_estimators=300, min_samples_split=3, min_samples_leaf=4, max_features=sqrt, max_depth=28, total=   6.5s\n",
            "[CV] n_estimators=300, min_samples_split=3, min_samples_leaf=4, max_features=sqrt, max_depth=28 \n",
            "[CV]  n_estimators=300, min_samples_split=3, min_samples_leaf=4, max_features=sqrt, max_depth=28, total=   6.5s\n",
            "[CV] n_estimators=478, min_samples_split=3, min_samples_leaf=2, max_features=auto, max_depth=21 \n",
            "[CV]  n_estimators=478, min_samples_split=3, min_samples_leaf=2, max_features=auto, max_depth=21, total=  34.2s\n",
            "[CV] n_estimators=478, min_samples_split=3, min_samples_leaf=2, max_features=auto, max_depth=21 \n",
            "[CV]  n_estimators=478, min_samples_split=3, min_samples_leaf=2, max_features=auto, max_depth=21, total=  34.3s\n",
            "[CV] n_estimators=478, min_samples_split=3, min_samples_leaf=2, max_features=auto, max_depth=21 \n",
            "[CV]  n_estimators=478, min_samples_split=3, min_samples_leaf=2, max_features=auto, max_depth=21, total=  34.4s\n",
            "[CV] n_estimators=310, min_samples_split=2, min_samples_leaf=2, max_features=auto, max_depth=21 \n",
            "[CV]  n_estimators=310, min_samples_split=2, min_samples_leaf=2, max_features=auto, max_depth=21, total=  22.3s\n",
            "[CV] n_estimators=310, min_samples_split=2, min_samples_leaf=2, max_features=auto, max_depth=21 \n",
            "[CV]  n_estimators=310, min_samples_split=2, min_samples_leaf=2, max_features=auto, max_depth=21, total=  22.2s\n",
            "[CV] n_estimators=310, min_samples_split=2, min_samples_leaf=2, max_features=auto, max_depth=21 \n",
            "[CV]  n_estimators=310, min_samples_split=2, min_samples_leaf=2, max_features=auto, max_depth=21, total=  22.3s\n",
            "[CV] n_estimators=489, min_samples_split=2, min_samples_leaf=4, max_features=auto, max_depth=18 \n",
            "[CV]  n_estimators=489, min_samples_split=2, min_samples_leaf=4, max_features=auto, max_depth=18, total=  30.9s\n",
            "[CV] n_estimators=489, min_samples_split=2, min_samples_leaf=4, max_features=auto, max_depth=18 \n",
            "[CV]  n_estimators=489, min_samples_split=2, min_samples_leaf=4, max_features=auto, max_depth=18, total=  31.1s\n",
            "[CV] n_estimators=489, min_samples_split=2, min_samples_leaf=4, max_features=auto, max_depth=18 \n",
            "[CV]  n_estimators=489, min_samples_split=2, min_samples_leaf=4, max_features=auto, max_depth=18, total=  31.1s\n",
            "[CV] n_estimators=500, min_samples_split=5, min_samples_leaf=1, max_features=sqrt, max_depth=15 \n",
            "[CV]  n_estimators=500, min_samples_split=5, min_samples_leaf=1, max_features=sqrt, max_depth=15, total=  11.2s\n",
            "[CV] n_estimators=500, min_samples_split=5, min_samples_leaf=1, max_features=sqrt, max_depth=15 \n",
            "[CV]  n_estimators=500, min_samples_split=5, min_samples_leaf=1, max_features=sqrt, max_depth=15, total=  11.1s\n",
            "[CV] n_estimators=500, min_samples_split=5, min_samples_leaf=1, max_features=sqrt, max_depth=15 \n",
            "[CV]  n_estimators=500, min_samples_split=5, min_samples_leaf=1, max_features=sqrt, max_depth=15, total=  11.2s\n",
            "[CV] n_estimators=415, min_samples_split=3, min_samples_leaf=4, max_features=sqrt, max_depth=15 \n",
            "[CV]  n_estimators=415, min_samples_split=3, min_samples_leaf=4, max_features=sqrt, max_depth=15, total=   8.4s\n",
            "[CV] n_estimators=415, min_samples_split=3, min_samples_leaf=4, max_features=sqrt, max_depth=15 \n",
            "[CV]  n_estimators=415, min_samples_split=3, min_samples_leaf=4, max_features=sqrt, max_depth=15, total=   8.4s\n",
            "[CV] n_estimators=415, min_samples_split=3, min_samples_leaf=4, max_features=sqrt, max_depth=15 \n",
            "[CV]  n_estimators=415, min_samples_split=3, min_samples_leaf=4, max_features=sqrt, max_depth=15, total=   8.4s\n",
            "[CV] n_estimators=489, min_samples_split=5, min_samples_leaf=2, max_features=auto, max_depth=21 \n",
            "[CV]  n_estimators=489, min_samples_split=5, min_samples_leaf=2, max_features=auto, max_depth=21, total=  34.4s\n",
            "[CV] n_estimators=489, min_samples_split=5, min_samples_leaf=2, max_features=auto, max_depth=21 \n",
            "[CV]  n_estimators=489, min_samples_split=5, min_samples_leaf=2, max_features=auto, max_depth=21, total=  34.5s\n",
            "[CV] n_estimators=489, min_samples_split=5, min_samples_leaf=2, max_features=auto, max_depth=21 \n",
            "[CV]  n_estimators=489, min_samples_split=5, min_samples_leaf=2, max_features=auto, max_depth=21, total=  34.9s\n",
            "[CV] n_estimators=426, min_samples_split=5, min_samples_leaf=1, max_features=sqrt, max_depth=21 \n",
            "[CV]  n_estimators=426, min_samples_split=5, min_samples_leaf=1, max_features=sqrt, max_depth=21, total=  11.2s\n",
            "[CV] n_estimators=426, min_samples_split=5, min_samples_leaf=1, max_features=sqrt, max_depth=21 \n",
            "[CV]  n_estimators=426, min_samples_split=5, min_samples_leaf=1, max_features=sqrt, max_depth=21, total=  11.3s\n",
            "[CV] n_estimators=426, min_samples_split=5, min_samples_leaf=1, max_features=sqrt, max_depth=21 \n",
            "[CV]  n_estimators=426, min_samples_split=5, min_samples_leaf=1, max_features=sqrt, max_depth=21, total=  11.3s\n",
            "[CV] n_estimators=310, min_samples_split=3, min_samples_leaf=4, max_features=auto, max_depth=25 \n",
            "[CV]  n_estimators=310, min_samples_split=3, min_samples_leaf=4, max_features=auto, max_depth=25, total=  19.9s\n",
            "[CV] n_estimators=310, min_samples_split=3, min_samples_leaf=4, max_features=auto, max_depth=25 \n",
            "[CV]  n_estimators=310, min_samples_split=3, min_samples_leaf=4, max_features=auto, max_depth=25, total=  19.9s\n",
            "[CV] n_estimators=310, min_samples_split=3, min_samples_leaf=4, max_features=auto, max_depth=25 \n",
            "[CV]  n_estimators=310, min_samples_split=3, min_samples_leaf=4, max_features=auto, max_depth=25, total=  20.1s\n",
            "[CV] n_estimators=394, min_samples_split=2, min_samples_leaf=1, max_features=sqrt, max_depth=25 \n",
            "[CV]  n_estimators=394, min_samples_split=2, min_samples_leaf=1, max_features=sqrt, max_depth=25, total=  12.8s\n",
            "[CV] n_estimators=394, min_samples_split=2, min_samples_leaf=1, max_features=sqrt, max_depth=25 \n",
            "[CV]  n_estimators=394, min_samples_split=2, min_samples_leaf=1, max_features=sqrt, max_depth=25, total=  12.8s\n",
            "[CV] n_estimators=394, min_samples_split=2, min_samples_leaf=1, max_features=sqrt, max_depth=25 \n",
            "[CV]  n_estimators=394, min_samples_split=2, min_samples_leaf=1, max_features=sqrt, max_depth=25, total=  12.7s\n",
            "[CV] n_estimators=457, min_samples_split=3, min_samples_leaf=1, max_features=sqrt, max_depth=35 \n",
            "[CV]  n_estimators=457, min_samples_split=3, min_samples_leaf=1, max_features=sqrt, max_depth=35, total=  13.6s\n",
            "[CV] n_estimators=457, min_samples_split=3, min_samples_leaf=1, max_features=sqrt, max_depth=35 \n",
            "[CV]  n_estimators=457, min_samples_split=3, min_samples_leaf=1, max_features=sqrt, max_depth=35, total=  13.7s\n",
            "[CV] n_estimators=457, min_samples_split=3, min_samples_leaf=1, max_features=sqrt, max_depth=35 \n",
            "[CV]  n_estimators=457, min_samples_split=3, min_samples_leaf=1, max_features=sqrt, max_depth=35, total=  13.7s\n",
            "[CV] n_estimators=489, min_samples_split=3, min_samples_leaf=4, max_features=sqrt, max_depth=28 \n",
            "[CV]  n_estimators=489, min_samples_split=3, min_samples_leaf=4, max_features=sqrt, max_depth=28, total=  10.6s\n",
            "[CV] n_estimators=489, min_samples_split=3, min_samples_leaf=4, max_features=sqrt, max_depth=28 \n",
            "[CV]  n_estimators=489, min_samples_split=3, min_samples_leaf=4, max_features=sqrt, max_depth=28, total=  10.6s\n",
            "[CV] n_estimators=489, min_samples_split=3, min_samples_leaf=4, max_features=sqrt, max_depth=28 \n",
            "[CV]  n_estimators=489, min_samples_split=3, min_samples_leaf=4, max_features=sqrt, max_depth=28, total=  10.7s\n",
            "[CV] n_estimators=478, min_samples_split=2, min_samples_leaf=2, max_features=auto, max_depth=28 \n",
            "[CV]  n_estimators=478, min_samples_split=2, min_samples_leaf=2, max_features=auto, max_depth=28, total=  34.9s\n",
            "[CV] n_estimators=478, min_samples_split=2, min_samples_leaf=2, max_features=auto, max_depth=28 \n",
            "[CV]  n_estimators=478, min_samples_split=2, min_samples_leaf=2, max_features=auto, max_depth=28, total=  34.7s\n",
            "[CV] n_estimators=478, min_samples_split=2, min_samples_leaf=2, max_features=auto, max_depth=28 \n",
            "[CV]  n_estimators=478, min_samples_split=2, min_samples_leaf=2, max_features=auto, max_depth=28, total=  34.9s\n",
            "[CV] n_estimators=321, min_samples_split=3, min_samples_leaf=1, max_features=sqrt, max_depth=31 \n",
            "[CV]  n_estimators=321, min_samples_split=3, min_samples_leaf=1, max_features=sqrt, max_depth=31, total=   9.6s\n",
            "[CV] n_estimators=321, min_samples_split=3, min_samples_leaf=1, max_features=sqrt, max_depth=31 \n",
            "[CV]  n_estimators=321, min_samples_split=3, min_samples_leaf=1, max_features=sqrt, max_depth=31, total=   9.6s\n",
            "[CV] n_estimators=321, min_samples_split=3, min_samples_leaf=1, max_features=sqrt, max_depth=31 \n",
            "[CV]  n_estimators=321, min_samples_split=3, min_samples_leaf=1, max_features=sqrt, max_depth=31, total=   9.6s\n",
            "[CV] n_estimators=405, min_samples_split=5, min_samples_leaf=2, max_features=sqrt, max_depth=21 \n",
            "[CV]  n_estimators=405, min_samples_split=5, min_samples_leaf=2, max_features=sqrt, max_depth=21, total=   9.9s\n",
            "[CV] n_estimators=405, min_samples_split=5, min_samples_leaf=2, max_features=sqrt, max_depth=21 \n"
          ]
        }
      ]
    },
    {
      "cell_type": "code",
      "metadata": {
        "id": "cJroo-sWlHop"
      },
      "source": [
        "rf_random.best_params_"
      ],
      "execution_count": null,
      "outputs": []
    },
    {
      "cell_type": "code",
      "metadata": {
        "id": "fFd2QSiPlK9R"
      },
      "source": [
        "random_new = RandomForestRegressor(n_estimators = 394, min_samples_split = 2, min_samples_leaf = 1, max_features = 'sqrt',\n",
        "                                      max_depth = 25, bootstrap = True)"
      ],
      "execution_count": null,
      "outputs": []
    },
    {
      "cell_type": "code",
      "metadata": {
        "id": "DuT-10bclMAF"
      },
      "source": [
        "#Fit\n",
        "random_new.fit(Xtrain, ytrain)\n",
        "\n",
        "y_pred1 = random_new.predict(Xtest)\n",
        "\n",
        "#Checking the accuracy\n",
        "random_model_accuracy1 = round(random_new.score(Xtrain, ytrain)*100,2)\n",
        "print(round(random_model_accuracy1, 2), '%')"
      ],
      "execution_count": null,
      "outputs": []
    },
    {
      "cell_type": "code",
      "metadata": {
        "id": "4vpg_FJflSdp"
      },
      "source": [
        "#Checking the accuracy\n",
        "random_model_accuracy2 = round(random_new.score(Xtest, ytest)*100,2)\n",
        "print(round(random_model_accuracy2, 2), '%')"
      ],
      "execution_count": null,
      "outputs": []
    },
    {
      "cell_type": "code",
      "metadata": {
        "id": "3DaIa2K5lTIM"
      },
      "source": [
        "# Save the trained model as a pickle string.\n",
        "saved_model = pickle.dump(random_new, open('ForestModel.pickle','wb'))"
      ],
      "execution_count": null,
      "outputs": []
    },
    {
      "cell_type": "code",
      "metadata": {
        "id": "5ghSfNF4lYiU"
      },
      "source": [
        "# # Load the pickled model - \n",
        "reg_from_pickle = pickle.load(saved_model)\n",
        "# # Use the loaded pickled model to make predictions\n",
        "# # reg_from_pickle.predict(X_test)"
      ],
      "execution_count": null,
      "outputs": []
    },
    {
      "cell_type": "markdown",
      "metadata": {
        "id": "R4D6HxWKly8b"
      },
      "source": [
        "bz2file"
      ]
    },
    {
      "cell_type": "code",
      "metadata": {
        "id": "bXalL-9vlzZt"
      },
      "source": [
        "!pip install bz2file"
      ],
      "execution_count": null,
      "outputs": []
    },
    {
      "cell_type": "code",
      "metadata": {
        "id": "LDOdRP_pl5lN"
      },
      "source": [
        "import bz2\n",
        "\n",
        "compressionLevel = 9\n",
        "source_file = 'ForestModel.pickle' # this file can be in a different format, like .csv or others...\n",
        "destination_file = 'ForestModel.bz2'\n",
        "\n",
        "with open(source_file, 'rb') as data:\n",
        "    tarbz2contents = bz2.compress(data.read(), compressionLevel)\n",
        "    \n",
        "fh = open(destination_file, \"wb\")\n",
        "fh.write(tarbz2contents)\n",
        "fh.close()"
      ],
      "execution_count": null,
      "outputs": []
    }
  ]
}